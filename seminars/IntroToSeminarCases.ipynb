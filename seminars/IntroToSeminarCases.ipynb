{
  "nbformat": 4,
  "nbformat_minor": 0,
  "metadata": {
    "colab": {
      "provenance": [],
      "gpuType": "T4",
      "include_colab_link": true
    },
    "kernelspec": {
      "name": "python3",
      "display_name": "Python 3"
    },
    "language_info": {
      "name": "python"
    },
    "accelerator": "GPU"
  },
  "cells": [
    {
      "cell_type": "markdown",
      "metadata": {
        "id": "view-in-github",
        "colab_type": "text"
      },
      "source": [
        "<a href=\"https://colab.research.google.com/github/SiraDD/TuringProject/blob/main/IntroToSeminarCases.ipynb\" target=\"_parent\"><img src=\"https://colab.research.google.com/assets/colab-badge.svg\" alt=\"Open In Colab\"/></a>"
      ]
    },
    {
      "cell_type": "code",
      "execution_count": 1,
      "metadata": {
        "id": "BQXQTIQiw3-f",
        "colab": {
          "base_uri": "https://localhost:8080/"
        },
        "outputId": "9cad62e4-628e-45ae-cd28-c647c4895705"
      },
      "outputs": [
        {
          "output_type": "stream",
          "name": "stdout",
          "text": [
            "Collecting gurobipy\n",
            "  Downloading gurobipy-11.0.1-cp310-cp310-manylinux2014_x86_64.manylinux_2_17_x86_64.whl (13.4 MB)\n",
            "\u001b[2K     \u001b[90m━━━━━━━━━━━━━━━━━━━━━━━━━━━━━━━━━━━━━━━━\u001b[0m \u001b[32m13.4/13.4 MB\u001b[0m \u001b[31m48.0 MB/s\u001b[0m eta \u001b[36m0:00:00\u001b[0m\n",
            "\u001b[?25hInstalling collected packages: gurobipy\n",
            "Successfully installed gurobipy-11.0.1\n"
          ]
        }
      ],
      "source": [
        "!python -m pip install gurobipy"
      ]
    },
    {
      "cell_type": "code",
      "source": [
        "import gurobipy as gp\n",
        "from gurobipy import *\n",
        "import pandas as pd\n",
        "import numpy as np"
      ],
      "metadata": {
        "id": "1rfgVTIFyUzR"
      },
      "execution_count": 2,
      "outputs": []
    },
    {
      "cell_type": "code",
      "source": [
        "# importing values from excel file\n",
        "df = pd.read_excel('Railway services-2024.xlsx')\n",
        "df = df.iloc[:-3]\n",
        "indexes = df['Trip'].tolist()\n",
        "demand = df['Demand(μ)'].tolist()\n",
        "line = df['Line'].tolist()\n",
        "demand_stdDev = df['Demand(σ)'].tolist()"
      ],
      "metadata": {
        "id": "aVapy8iL-XoG"
      },
      "execution_count": 3,
      "outputs": []
    },
    {
      "cell_type": "markdown",
      "source": [
        "Exercise 3 - Formulation 1 (Cross-sections + train types)"
      ],
      "metadata": {
        "id": "BPxOOp0WzuK7"
      }
    },
    {
      "cell_type": "code",
      "source": [
        "# create model\n",
        "m1 = gp.Model(\"first formulation ex 3\")\n",
        "\n",
        "# create variables\n",
        "N = m1.addVars(2, 200, vtype=GRB.INTEGER) #N_{u,c} variables (2 types & 200 cross-sections) (0 = OC & 1 = OH)\n",
        "\n",
        "# create coefficients\n",
        "lengthRequirement = [200 if x == 400 else 300 for x in line]\n",
        "costCoefficients = [260000, 210000]\n",
        "costDict = {}\n",
        "capacityCoefficients = [620, 420]\n",
        "capacityDict = {}\n",
        "lengthCoefficients = [100, 70]\n",
        "lengthDict = {}\n",
        "qty1Coefficients = [1, -1.25]\n",
        "qty1Dict = {}\n",
        "qty2Coefficients = [-1.25, 1]\n",
        "qty2Dict = {}\n",
        "\n",
        "for u in range(2):\n",
        "  for c in range(200):\n",
        "    costDict[(u, c)] = costCoefficients[u]\n",
        "    capacityDict[(u, c)] = capacityCoefficients[u]\n",
        "    lengthDict[(u, c)] = lengthCoefficients[u]\n",
        "    qty1Dict[(u, c)] = qty1Coefficients[u]\n",
        "    qty2Dict[(u, c)] = qty2Coefficients[u]"
      ],
      "metadata": {
        "id": "NahCKf9vyc8K"
      },
      "execution_count": null,
      "outputs": []
    },
    {
      "cell_type": "code",
      "source": [
        "# Defining Objective Function\n",
        "m1.setObjective(N.prod(costDict))\n",
        "\n",
        "# Generating Constraints\n",
        "m1.addConstrs(N.prod(capacityDict, '*', c) >= demand[c]  for c in range(200))\n",
        "m1.addConstr(N.prod(qty1Dict) <= 0)\n",
        "m1.addConstr(N.prod(qty2Dict) <= 0)\n",
        "m1.addConstrs(N.prod(lengthDict, '*', c) <= lengthRequirement[c] for c in range(200))\n",
        "m1.addConstrs(N[u, c] >= 0 for u in range(2) for c in range(200))\n",
        "\n",
        "m1.optimize()"
      ],
      "metadata": {
        "id": "pH1LSB8QUnYN"
      },
      "execution_count": null,
      "outputs": []
    },
    {
      "cell_type": "code",
      "source": [
        "# Solve LP relaxation\n",
        "r1 = m1.relax()\n",
        "r1.optimize()"
      ],
      "metadata": {
        "id": "dnjgyqcbBEhs"
      },
      "execution_count": null,
      "outputs": []
    },
    {
      "cell_type": "markdown",
      "source": [
        "Exercise 3 - Formulation 2 (Compositions + Cross-sections)"
      ],
      "metadata": {
        "id": "3SERwJiT2pa4"
      }
    },
    {
      "cell_type": "code",
      "source": [
        "# Create set of compositions - denoted as a pair of values (OC, OH), where OC is the number of OC rolling stock units and OH is the number of OH rolling stock units\n",
        "compositions = []\n",
        "minDemand = min(demand)\n",
        "\n",
        "for OC in range(4):\n",
        "  for OH in range(5):\n",
        "    if 620 * OC + 420 * OH >= min(demand) and 100 * OC + 70 * OH <= 300:\n",
        "      compositions.append((OC, OH))\n",
        "\n",
        "print(compositions)"
      ],
      "metadata": {
        "id": "L7B6JAjT29L1"
      },
      "execution_count": null,
      "outputs": []
    },
    {
      "cell_type": "code",
      "source": [
        "# Create model\n",
        "m2 = gp.Model(\"second formulation ex 3\")\n",
        "\n",
        "# create variables\n",
        "X = m2.addVars(200, 10, vtype=GRB.BINARY) #X_{c,p} variables (200 cross-sections & 10 compositions)\n",
        "\n",
        "# create coefficients\n",
        "lengthRequirement = [200 if x == 400 else 300 for x in line]\n",
        "costCoefficients = [260000, 210000]\n",
        "costDict2 = {}\n",
        "capacityCoefficients = [620, 420]\n",
        "capacityDict2 = {}\n",
        "lengthCoefficients = [100, 70]\n",
        "lengthDict2 = {}\n",
        "qty1Coefficients = [1, -1.25]\n",
        "qty1Dict2 = {}\n",
        "numOfType1Trains = {}\n",
        "numOfType2Trains = {}\n",
        "qty2Coefficients = [-1.25, 1]\n",
        "qty2Dict2 = {}\n",
        "\n",
        "for composition in range(len(compositions)):\n",
        "  for c in range(200):\n",
        "    costDict2[(c, composition)] = costCoefficients[0] * compositions[composition][0] + costCoefficients[1] * compositions[composition][1]\n",
        "    capacityDict2[(c, composition)] = capacityCoefficients[0] * compositions[composition][0] + capacityCoefficients[1] * compositions[composition][1]\n",
        "    lengthDict2[(c, composition)] = lengthCoefficients[0] * compositions[composition][0] + lengthCoefficients[1] * compositions[composition][1]\n",
        "    qty1Dict2[(c, composition)] = qty1Coefficients[0] * compositions[composition][0] + qty1Coefficients[1] * compositions[composition][1]\n",
        "    qty2Dict2[(c, composition)] = qty2Coefficients[0] * compositions[composition][0] + qty2Coefficients[1] * compositions[composition][1]"
      ],
      "metadata": {
        "id": "Ie7qg-D-8nrn"
      },
      "execution_count": null,
      "outputs": []
    },
    {
      "cell_type": "code",
      "source": [
        "# Defining Objective Function\n",
        "m2.setObjective(X.prod(costDict2))\n",
        "\n",
        "# Generating Constraints\n",
        "m2.addConstrs(X.prod(capacityDict2, c, '*') >= demand[c]  for c in range(200))\n",
        "m2.addConstr(X.prod(qty1Dict2) <= 0)\n",
        "m2.addConstr(X.prod(qty2Dict2) <= 0)\n",
        "m2.addConstrs(X.prod(lengthDict2, c, '*') <= lengthRequirement[c] for c in range(200))\n",
        "m2.addConstrs(X.sum(c, '*') == 1 for c in range(200))\n",
        "\n",
        "m2.optimize()"
      ],
      "metadata": {
        "id": "fIYCTKRWBWmZ"
      },
      "execution_count": null,
      "outputs": []
    },
    {
      "cell_type": "code",
      "source": [
        "# Solve LP relaxation\n",
        "r2 = m2.relax()\n",
        "r2.optimize()"
      ],
      "metadata": {
        "colab": {
          "base_uri": "https://localhost:8080/"
        },
        "id": "xedkr8qJA6gg",
        "outputId": "9ad4dfd7-aef8-4481-bb0f-0191a15daa8b"
      },
      "execution_count": null,
      "outputs": [
        {
          "output_type": "stream",
          "name": "stdout",
          "text": [
            "Gurobi Optimizer version 11.0.1 build v11.0.1rc0 (linux64 - \"Ubuntu 22.04.3 LTS\")\n",
            "\n",
            "CPU model: Intel(R) Xeon(R) CPU @ 2.20GHz, instruction set [SSE2|AVX|AVX2]\n",
            "Thread count: 1 physical cores, 2 logical processors, using up to 2 threads\n",
            "\n",
            "Optimize a model with 602 rows, 2000 columns and 10000 nonzeros\n",
            "Model fingerprint: 0xd3769065\n",
            "Coefficient statistics:\n",
            "  Matrix range     [2e-01, 2e+03]\n",
            "  Objective range  [2e+05, 8e+05]\n",
            "  Bounds range     [1e+00, 1e+00]\n",
            "  RHS range        [1e+00, 1e+03]\n",
            "Presolve time: 0.02s\n",
            "Presolved: 602 rows, 2000 columns, 10000 nonzeros\n",
            "\n",
            "Iteration    Objective       Primal Inf.    Dual Inf.      Time\n",
            "       0    4.2000000e+07   4.945719e+03   0.000000e+00      0s\n",
            "     343    6.2616490e+07   0.000000e+00   0.000000e+00      0s\n",
            "\n",
            "Solved in 343 iterations and 0.04 seconds (0.01 work units)\n",
            "Optimal objective  6.261648954e+07\n"
          ]
        }
      ]
    },
    {
      "cell_type": "markdown",
      "source": [
        "Exercise 4 - Stochastic Demand"
      ],
      "metadata": {
        "id": "BLaspTpRATi0"
      }
    },
    {
      "cell_type": "code",
      "source": [
        "# Create set of compositions - denoted as a pair of values (OC, OH), where OC is the number of OC rolling stock units and OH is the number of OH rolling stock units\n",
        "compositions = []\n",
        "minDemand = min(demand)\n",
        "\n",
        "for OC in range(4):\n",
        "  for OH in range(5):\n",
        "    if 620 * OC + 420 * OH >= min(demand) and 100 * OC + 70 * OH <= 300:\n",
        "      compositions.append((OC, OH))\n",
        "\n",
        "# Create stochastic demand\n",
        "stochasticDemands = [[0 for days in range(250)] for c in range(200)] # stochasticDemands[c][days]\n",
        "stochasticDemands = np.array(stochasticDemands)\n",
        "\n",
        "for c in range(200):\n",
        "  demandMean = demand[c]\n",
        "  demandStDev = demand_stdDev[c]\n",
        "  for day in range(250):\n",
        "    stochasticDemands[c][day] = np.random.normal(demandMean, demandStDev)\n",
        "\n",
        "params = {\n",
        "\"WLSACCESSID\": '9f6bda1d-2c0b-49c7-96a8-f172b568e9e4',\n",
        "\"WLSSECRET\": '3db7e79a-7091-4079-9dc3-c9c1382b1c4e',\n",
        "\"LICENSEID\": 2498504,\n",
        "}\n",
        "env = gp.Env(params=params)"
      ],
      "metadata": {
        "colab": {
          "base_uri": "https://localhost:8080/"
        },
        "id": "B2kKWu5CAZAW",
        "outputId": "98309f7b-a1d2-4511-86fb-db6733fc58d9"
      },
      "execution_count": 4,
      "outputs": [
        {
          "output_type": "stream",
          "name": "stdout",
          "text": [
            "Set parameter WLSAccessID\n",
            "Set parameter WLSSecret\n",
            "Set parameter LicenseID to value 2498504\n",
            "Academic license 2498504 - for non-commercial use only - registered to 61___@eur.nl\n"
          ]
        }
      ]
    },
    {
      "cell_type": "code",
      "source": [
        "# Create model\n",
        "m3 = gp.Model(\"Exercise 4 second formulation\", env = env)\n",
        "\n",
        "# Create variables\n",
        "X2 = m3.addMVar((200, 10), vtype=GRB.BINARY) #X_{c,p} variables (200 cross-sections & 10 compositions)\n",
        "Y = m3.addMVar((200, 250), vtype=GRB.BINARY) #Y_{c, d} variables (200 cross-sections & 250 days)\n",
        "\n",
        "# Create coefficient vectors\n",
        "lengthRequirement = [200 if x == 400 else 300 for x in line]\n",
        "costCoefficients = [260000, 210000]\n",
        "capacityCoefficients = [620, 420]\n",
        "lengthCoefficients = [100, 70]\n",
        "qty1Coefficients = [1, -1.25]\n",
        "qty2Coefficients = [-1.25, 1]\n",
        "\n",
        "costVector = np.zeros(10)\n",
        "capacityVector  = np.zeros(10)\n",
        "lengthVector = np.zeros(10)\n",
        "qty1Vector = np.zeros(10)\n",
        "qty2Vector = np.zeros(10)\n",
        "\n",
        "for composition in range(len(compositions)):\n",
        "  costVector[composition] = costCoefficients[0] * compositions[composition][0] + costCoefficients[1] * compositions[composition][1]\n",
        "  capacityVector[composition] = capacityCoefficients[0] * compositions[composition][0] + capacityCoefficients[1] * compositions[composition][1]\n",
        "  lengthVector[composition] = lengthCoefficients[0] * compositions[composition][0] + lengthCoefficients[1] * compositions[composition][1]\n",
        "  qty1Vector[composition] = qty1Coefficients[0] * compositions[composition][0] + qty1Coefficients[1] * compositions[composition][1]\n",
        "  qty2Vector[composition] = qty2Coefficients[0] * compositions[composition][0] + qty2Coefficients[1] * compositions[composition][1]"
      ],
      "metadata": {
        "id": "nogn7gVtvmsm"
      },
      "execution_count": 5,
      "outputs": []
    },
    {
      "cell_type": "code",
      "source": [
        "# Defining Objective Function\n",
        "m3.setObjective(X2.sum(0) @ costVector)\n",
        "\n",
        "for d in range(250):\n",
        "  for c in range(200):\n",
        "    m3.addGenConstrIndicator(Y[c][d], 1, X2[c] @ capacityVector, GRB.GREATER_EQUAL, stochasticDemands[c][d])\n",
        "\n",
        "# Remaining Constraints\n",
        "m3.addConstr(Y.sum() / 50000 >= 0.81)\n",
        "m3.addConstrs(Y.sum(1)[c] / 250 >= 0.5 for c in range(200))\n",
        "m3.addConstr(X2.sum(0) @ qty1Vector <= 0)\n",
        "m3.addConstr(X2.sum(0) @ qty2Vector <= 0)\n",
        "m3.addConstrs(X2[c] @ lengthVector <= lengthRequirement[c] for c in range(200))\n",
        "m3.addConstrs(X2.sum(1)[c] == 1 for c in range(200))\n",
        "\n",
        "m3.optimize()"
      ],
      "metadata": {
        "id": "bTuQJvkTIfR0"
      },
      "execution_count": null,
      "outputs": []
    }
  ]
}
